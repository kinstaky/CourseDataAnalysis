{
 "cells": [
  {
   "cell_type": "markdown",
   "id": "hollow-enough",
   "metadata": {},
   "source": [
    "# PPAC tracking\n",
    "\n",
    "+ [Tracking 程序](Tracking.html)\n",
    "+ [tracking 分析](Analysis.html)\n",
    "+ [效率](effciency.html)\n",
    "+ [残差分析](Residual.html)\n",
    "+ [优化](optimization.html)\n",
    "    + [优化后残差分析](Residual_test.html)\n",
    "+ [模拟](simulation.html)"
   ]
  }
 ],
 "metadata": {
  "kernelspec": {
   "display_name": "ROOT C++",
   "language": "c++",
   "name": "root"
  },
  "language_info": {
   "codemirror_mode": "text/x-c++src",
   "file_extension": ".C",
   "mimetype": " text/x-c++src",
   "name": "c++"
  },
  "toc": {
   "base_numbering": 1,
   "nav_menu": {},
   "number_sections": true,
   "sideBar": true,
   "skip_h1_title": true,
   "title_cell": "Table of Contents",
   "title_sidebar": "Contents",
   "toc_cell": false,
   "toc_position": {},
   "toc_section_display": true,
   "toc_window_display": false
  }
 },
 "nbformat": 4,
 "nbformat_minor": 5
}
