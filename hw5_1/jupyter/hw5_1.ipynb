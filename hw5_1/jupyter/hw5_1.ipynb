{
 "cells": [
  {
   "cell_type": "markdown",
   "id": "cathedral-prairie",
   "metadata": {},
   "source": [
    "# Alpha Decay\n",
    "\n",
    "+ [处理DSSD](DSSD.html)\n",
    "+ [加入MWPC](AddMWPC.html)\n",
    "+ [$^{210}$Ra衰变](Ra210Decay.html)"
   ]
  }
 ],
 "metadata": {
  "kernelspec": {
   "display_name": "ROOT C++",
   "language": "c++",
   "name": "root"
  },
  "language_info": {
   "codemirror_mode": "text/x-c++src",
   "file_extension": ".C",
   "mimetype": " text/x-c++src",
   "name": "c++"
  },
  "toc": {
   "base_numbering": 1,
   "nav_menu": {},
   "number_sections": true,
   "sideBar": true,
   "skip_h1_title": true,
   "title_cell": "Table of Contents",
   "title_sidebar": "Contents",
   "toc_cell": false,
   "toc_position": {},
   "toc_section_display": true,
   "toc_window_display": false
  }
 },
 "nbformat": 4,
 "nbformat_minor": 5
}
