{
 "cells": [
  {
   "cell_type": "markdown",
   "id": "global-grill",
   "metadata": {},
   "source": [
    "# 效率\n",
    "\n",
    "## 准备"
   ]
  },
  {
   "cell_type": "code",
   "execution_count": 1,
   "id": "japanese-marker",
   "metadata": {},
   "outputs": [],
   "source": [
    "TFile *ipf = new TFile(\"../data/tracking.root\");\n",
    "TTree *tree = (TTree*)ipf->Get(\"tree\");\n",
    "TCut c2nCut = \"c2nx < 10 && c2ny < 10\";\n",
    "TCanvas *c1 = new TCanvas;"
   ]
  },
  {
   "cell_type": "markdown",
   "id": "alone-tuition",
   "metadata": {},
   "source": [
    "## 束流打在靶范围内的比例\n",
    "\n",
    "靶宽40，高25，假设80%为宽高是有效的，即宽取32，高取20"
   ]
  },
  {
   "cell_type": "code",
   "execution_count": 2,
   "id": "entire-canal",
   "metadata": {},
   "outputs": [
    {
     "name": "stdout",
     "output_type": "stream",
     "text": [
      "target / total = 247145 / 566984 = 43.5894%\n"
     ]
    }
   ],
   "source": [
    "Double_t totalParticles = tree->GetEntries(c2nCut);\n",
    "Double_t targetParticles = tree->GetEntries(c2nCut && \"abs(ptx) < 16 && abs(pty) < 10\");\n",
    "cout << \"target / total = \" << targetParticles << \" / \" << totalParticles << \" = \" << targetParticles/totalParticles * 100.0 << \"%\" << endl;"
   ]
  },
  {
   "cell_type": "markdown",
   "id": "secret-associate",
   "metadata": {},
   "source": [
    "## PPAC1a的效率\n",
    "\n",
    "### 穿过探测器灵敏面积的粒子"
   ]
  },
  {
   "cell_type": "code",
   "execution_count": 3,
   "id": "harmful-incident",
   "metadata": {},
   "outputs": [
    {
     "name": "stdout",
     "output_type": "stream",
     "text": [
      "566983\n"
     ]
    }
   ],
   "source": [
    "TCut pass0Cut = \"abs(fxx[0]) < 120 && abs(fyy[0]) < 75\" && c2nCut;\n",
    "Double_t pass0N = tree->GetEntries(pass0Cut);\n",
    "cout << pass0N << endl;"
   ]
  },
  {
   "cell_type": "markdown",
   "id": "polyphonic-vermont",
   "metadata": {},
   "source": [
    "\n",
    "### 使用阳极计算"
   ]
  },
  {
   "cell_type": "code",
   "execution_count": 4,
   "id": "recovered-resource",
   "metadata": {},
   "outputs": [
    {
     "name": "stdout",
     "output_type": "stream",
     "text": [
      " eff-a   99.18%\n",
      " eff-ax  94.33%\n",
      " eff-ay  91.73%\n",
      " eff-axy 86.89%\n"
     ]
    }
   ],
   "source": [
    "TCut anode0Cut = \"abs(anode[0]) < 150\";\n",
    "TCut x0Cut = \"trackX & 0x1\";\n",
    "TCut y0Cut = \"trackY & 0x1\";\n",
    "Double_t anode0N = tree->GetEntries(pass0Cut && anode0Cut);\n",
    "Double_t x0N = tree->GetEntries(pass0Cut && anode0Cut && x0Cut);\n",
    "Double_t y0N = tree->GetEntries(pass0Cut && anode0Cut && y0Cut);\n",
    "Double_t xy0N = tree->GetEntries(pass0Cut && anode0Cut && x0Cut && y0Cut);\n",
    "printf(\" eff-a   %.2f%%\\n eff-ax  %.2f%%\\n eff-ay  %.2f%%\\n eff-axy %.2f%%\\n\", anode0N/pass0N*100, x0N/pass0N*100, y0N/pass0N*100, xy0N/pass0N*100);"
   ]
  },
  {
   "cell_type": "markdown",
   "id": "illegal-seventh",
   "metadata": {},
   "source": [
    "### 使用PPAC2计算"
   ]
  },
  {
   "cell_type": "code",
   "execution_count": 5,
   "id": "quiet-contents",
   "metadata": {},
   "outputs": [
    {
     "name": "stdout",
     "output_type": "stream",
     "text": [
      " eff-x  94.41%\n",
      " eff-y  91.82%\n",
      " eff-xy 86.96%\n"
     ]
    }
   ],
   "source": [
    "TCut track2Cut = \"trackX & 0xc\";\n",
    "Double_t track2N = tree->GetEntries(pass0Cut && track2Cut);\n",
    "Double_t x02N = tree->GetEntries(pass0Cut && track2Cut && x0Cut);\n",
    "Double_t y02N = tree->GetEntries(pass0Cut && track2Cut && y0Cut);\n",
    "Double_t xy02N = tree->GetEntries(pass0Cut && track2Cut && x0Cut && y0Cut);\n",
    "printf(\" eff-x  %.2f%%\\n eff-y  %.2f%%\\n eff-xy %.2f%%\\n\", x02N/track2N*100, y02N/track2N*100, xy02N/track2N*100);"
   ]
  },
  {
   "cell_type": "markdown",
   "id": "precious-activation",
   "metadata": {},
   "source": [
    "两种计算方式得到的效率相差不大"
   ]
  },
  {
   "cell_type": "markdown",
   "id": "hundred-shuttle",
   "metadata": {},
   "source": [
    " ## PPAC3的效率\n",
    " \n",
    " ### 穿过探测器灵敏面积的粒子数"
   ]
  },
  {
   "cell_type": "code",
   "execution_count": 6,
   "id": "adjacent-history",
   "metadata": {},
   "outputs": [
    {
     "name": "stdout",
     "output_type": "stream",
     "text": [
      "524912\n"
     ]
    }
   ],
   "source": [
    "TCut pass4Cut = \"abs(fxx[4]) < 50 && abs(fyy[0]) < 50\" && c2nCut;\n",
    "Double_t pass4N = tree->GetEntries(pass4Cut);\n",
    "cout << pass4N << endl;"
   ]
  },
  {
   "cell_type": "markdown",
   "id": "western-bridal",
   "metadata": {},
   "source": [
    "\n",
    "### 使用阳极计算"
   ]
  },
  {
   "cell_type": "code",
   "execution_count": 7,
   "id": "aboriginal-speaking",
   "metadata": {},
   "outputs": [
    {
     "name": "stdout",
     "output_type": "stream",
     "text": [
      " eff-a   56.18%\n",
      " eff-ax  52.13%\n",
      " eff-ay  51.60%\n",
      " eff-axy 47.56%\n"
     ]
    }
   ],
   "source": [
    "TCut anode4Cut = \"abs(anode[4]) < 150\";\n",
    "TCut x4Cut = \"trackX & 0x10\";\n",
    "TCut y4Cut = \"trackY & 0x10\";\n",
    "Double_t anode4N = tree->GetEntries(pass4Cut && anode4Cut);\n",
    "Double_t x4N = tree->GetEntries(pass4Cut && anode4Cut && x4Cut);\n",
    "Double_t y4N = tree->GetEntries(pass4Cut && anode4Cut && y4Cut);\n",
    "Double_t xy4N = tree->GetEntries(pass4Cut && anode4Cut && x4Cut && y4Cut);\n",
    "printf(\" eff-a   %.2f%%\\n eff-ax  %.2f%%\\n eff-ay  %.2f%%\\n eff-axy %.2f%%\\n\", anode4N/pass4N*100, x4N/pass4N*100, y4N/pass4N*100, xy4N/pass4N*100);"
   ]
  },
  {
   "cell_type": "markdown",
   "id": "greatest-covering",
   "metadata": {},
   "source": [
    "### 使用PPAC2计算"
   ]
  },
  {
   "cell_type": "code",
   "execution_count": 8,
   "id": "specific-salad",
   "metadata": {},
   "outputs": [
    {
     "name": "stdout",
     "output_type": "stream",
     "text": [
      " eff-x  52.29%\n",
      " eff-y  51.76%\n",
      " eff-xy 47.68%\n"
     ]
    }
   ],
   "source": [
    "TCut track2Cut = \"trackX & 0xc\";\n",
    "Double_t track2N = tree->GetEntries(pass4Cut && track2Cut);\n",
    "Double_t x42N = tree->GetEntries(pass4Cut && track2Cut && x4Cut);\n",
    "Double_t y42N = tree->GetEntries(pass4Cut && track2Cut && y4Cut);\n",
    "Double_t xy42N = tree->GetEntries(pass4Cut && track2Cut && x4Cut && y4Cut);\n",
    "printf(\" eff-x  %.2f%%\\n eff-y  %.2f%%\\n eff-xy %.2f%%\\n\", x42N/track2N*100, y42N/track2N*100, xy42N/track2N*100);"
   ]
  },
  {
   "cell_type": "markdown",
   "id": "acting-database",
   "metadata": {},
   "source": [
    "同样的，两种计算方式得到的效率相差不大"
   ]
  }
 ],
 "metadata": {
  "kernelspec": {
   "display_name": "ROOT C++",
   "language": "c++",
   "name": "root"
  },
  "language_info": {
   "codemirror_mode": "text/x-c++src",
   "file_extension": ".C",
   "mimetype": " text/x-c++src",
   "name": "c++"
  },
  "toc": {
   "base_numbering": 1,
   "nav_menu": {},
   "number_sections": true,
   "sideBar": true,
   "skip_h1_title": true,
   "title_cell": "Table of Contents",
   "title_sidebar": "Contents",
   "toc_cell": false,
   "toc_position": {
    "height": "calc(100% - 180px)",
    "left": "10px",
    "top": "150px",
    "width": "307.2px"
   },
   "toc_section_display": true,
   "toc_window_display": true
  }
 },
 "nbformat": 4,
 "nbformat_minor": 5
}
