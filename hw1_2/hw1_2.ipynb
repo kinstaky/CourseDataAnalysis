{
 "cells": [
  {
   "cell_type": "markdown",
   "id": "animated-infection",
   "metadata": {},
   "source": [
    "# homework 1.2"
   ]
  },
  {
   "cell_type": "markdown",
   "id": "loose-niagara",
   "metadata": {},
   "source": [
    "+ [1. 模拟生成数据](hw1_2_1.ipynb)\n",
    "+ [2. 使用MakeClass方法生成`AddVeto`类](hw1_2_2.ipynb)\n",
    "+ [3. 计算位置 tx，归一化飞行时间 ntof 和 中子能量 ce](hw1_2_3.ipynb)\n",
    "+ [4. 计算沉积能量Q](hw1_2_4.ipynb)\n",
    "+ [5. 分析](hw1_2_5.ipynb)\n",
    "\n",
    "\n"
   ]
  }
 ],
 "metadata": {
  "kernelspec": {
   "display_name": "ROOT C++",
   "language": "c++",
   "name": "root"
  },
  "language_info": {
   "codemirror_mode": "text/x-c++src",
   "file_extension": ".C",
   "mimetype": " text/x-c++src",
   "name": "c++"
  },
  "toc": {
   "base_numbering": 1,
   "nav_menu": {},
   "number_sections": false,
   "sideBar": true,
   "skip_h1_title": false,
   "title_cell": "Table of Contents",
   "title_sidebar": "Contents",
   "toc_cell": false,
   "toc_position": {
    "height": "calc(100% - 180px)",
    "left": "10px",
    "top": "150px",
    "width": "307.2px"
   },
   "toc_section_display": true,
   "toc_window_display": false
  }
 },
 "nbformat": 4,
 "nbformat_minor": 5
}
