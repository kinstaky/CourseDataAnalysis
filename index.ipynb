{
 "cells": [
  {
   "cell_type": "markdown",
   "id": "adapted-sunglasses",
   "metadata": {},
   "source": [
    "# 数据分析课作业\n",
    "\n",
    "## chapter 1\n",
    "+ [1.1 位置和能量](hw1_1.html)\n",
    "+ [1.2 veto](hw1_2.html)\n",
    "\n",
    "## chapter 2\n",
    "+ [2.1 PPAC](hw2_1.html)"
   ]
  }
 ],
 "metadata": {
  "kernelspec": {
   "display_name": "ROOT C++",
   "language": "c++",
   "name": "root"
  },
  "language_info": {
   "codemirror_mode": "text/x-c++src",
   "file_extension": ".C",
   "mimetype": " text/x-c++src",
   "name": "c++"
  },
  "toc": {
   "base_numbering": 1,
   "nav_menu": {},
   "number_sections": false,
   "sideBar": true,
   "skip_h1_title": true,
   "title_cell": "Table of Contents",
   "title_sidebar": "Contents",
   "toc_cell": false,
   "toc_position": {},
   "toc_section_display": true,
   "toc_window_display": true
  }
 },
 "nbformat": 4,
 "nbformat_minor": 5
}
